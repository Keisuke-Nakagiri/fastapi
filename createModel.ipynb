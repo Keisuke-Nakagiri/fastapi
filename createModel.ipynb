{
 "cells": [
  {
   "cell_type": "code",
   "execution_count": null,
   "id": "ca89638f",
   "metadata": {},
   "outputs": [],
   "source": [
    "import pickle\n",
    "import pandas as pd\n",
    "from sklearn import datasets\n",
    "from sklearn.neural_network import MLPClassifier\n",
    "from sklearn.model_selection import train_test_split\n",
    "\n",
    "\n",
    "iris = datasets.load_iris()\n",
    "df_iris = pd.DataFrame(data=iris.data, columns=iris.feature_names)\n",
    "df_iris['target'] = iris.target\n",
    "data_train, data_test, target_train, target_test = train_test_split(iris.data, iris.target, test_size=0.2, random_state=0)\n",
    "model = MLPClassifier(hidden_layer_sizes=10, activation='relu', solver='adam', max_iter=10000)\n",
    "model.fit(data_train, target_train)\n",
    "print(model.score(data_train, target_train))\n",
    "print(model.predict(data_test))\n",
    "with open('model.pickle', 'wb') as f:\n",
    "    pickle.dump(model, f)"
   ]
  },
  {
   "cell_type": "code",
   "execution_count": null,
   "id": "f02fd05f",
   "metadata": {},
   "outputs": [],
   "source": [
    "with open('model.pickle', 'rb') as f:\n",
    "    model = pickle.load(f)"
   ]
  },
  {
   "cell_type": "code",
   "execution_count": null,
   "id": "a33cf5fd",
   "metadata": {},
   "outputs": [],
   "source": [
    "data0 = [[5.1, 3.5, 1.4, 0.2]]\n",
    "answer0 = model.predict(data0)\n",
    "print(answer0)"
   ]
  },
  {
   "cell_type": "code",
   "execution_count": null,
   "id": "e0d3ddb0",
   "metadata": {},
   "outputs": [],
   "source": [
    "data1 = [[6.3, 3, 4.5, 1.8]]\n",
    "answer1 = model.predict(data1)\n",
    "print(answer1)"
   ]
  },
  {
   "cell_type": "code",
   "execution_count": null,
   "id": "7ce7f185",
   "metadata": {},
   "outputs": [],
   "source": [
    "data2 = [[6.2, 3, 5.4, 1.9]]\n",
    "answer2 = model.predict(data2)\n",
    "print(answer2)"
   ]
  },
  {
   "cell_type": "code",
   "execution_count": null,
   "id": "c6788f38",
   "metadata": {},
   "outputs": [],
   "source": [
    "data = [[5.1, 3.5, 1.4, 0.2], [6.3, 3, 4.5, 1.8], [6.2, 3, 5.4, 1.9]]\n",
    "answer = model.predict(data)\n",
    "print(answer)"
   ]
  },
  {
   "cell_type": "code",
   "execution_count": null,
   "id": "6844e5fa",
   "metadata": {},
   "outputs": [],
   "source": []
  }
 ],
 "metadata": {
  "kernelspec": {
   "display_name": "aienv",
   "language": "python",
   "name": "aienv"
  },
  "language_info": {
   "codemirror_mode": {
    "name": "ipython",
    "version": 3
   },
   "file_extension": ".py",
   "mimetype": "text/x-python",
   "name": "python",
   "nbconvert_exporter": "python",
   "pygments_lexer": "ipython3",
   "version": "3.9.11"
  }
 },
 "nbformat": 4,
 "nbformat_minor": 5
}
